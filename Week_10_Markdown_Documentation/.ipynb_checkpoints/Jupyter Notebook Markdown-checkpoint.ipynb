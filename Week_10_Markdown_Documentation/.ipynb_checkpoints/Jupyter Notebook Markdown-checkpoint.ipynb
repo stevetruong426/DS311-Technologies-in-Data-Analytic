{
 "cells": [
  {
   "cell_type": "markdown",
   "id": "alert-pearl",
   "metadata": {},
   "source": [
    "# Jupyter Notebook Markdown\n",
    "\n",
    "1. Headings & List\n",
    "2. Embedded Code\n",
    "3. LaTeX Equations\n",
    "4. Attach Local/Internet Files\n",
    "5. Tables\n",
    "\n",
    "Resource: https://jupyter-notebook.readthedocs.io/en/stable/examples/Notebook/Working%20With%20Markdown%20Cells.html"
   ]
  },
  {
   "cell_type": "markdown",
   "id": "inner-insurance",
   "metadata": {},
   "source": [
    "## 1. Heading & List\n",
    "\n",
    "### Headings:\n",
    "\n",
    "Heading of a markdown is going to help your audiences focus on the content of a markdown block.  We can add headings by starting a line with one (or multiple) ```#``` followed by a space, as in the following example:\n",
    "\n",
    "\n",
    "# Heading 1\n",
    "## Heading 1.1\n",
    "### Heading 1.1.1\n",
    "#### Heading 1.1.1.1\n",
    "\n",
    "\n",
    "### List:\n",
    "\n",
    "It's often the case that we want to list out the content in a markdown block. We can build nested itemized or enumerated lists:\n",
    "\n",
    "\n",
    "- First Item\n",
    "    - First Item Sublist\n",
    "        - Sub-Item\n",
    "- Second Item - Not Sublist - Not Sublist\n",
    "- Third Item\n",
    "- Fourth Item\n",
    "\n",
    "\n",
    "Here is another list:\n",
    "\n",
    "\n",
    "1. This is the first item\n",
    "    1. This is the first sub-item of the first item\n",
    "    2. This is the second sub-tiem of the first item\n",
    "2. This is the second item\n",
    "3. This is the last item in the list\n",
    "\n",
    "\n",
    "### Text Style\n",
    "\n",
    "\n",
    "1. *There are two ways to type italic text*\n",
    "    - *Use a single asterisk* | ```*text*```\n",
    "    - OR *Use a single underscore* | ```_text_```\n",
    "2. **There are two ways to type bold text**\n",
    "    - **Use double asterisks** | ```**test**```\n",
    "    - OR **Use double underscores** | ```__text__```\n",
    "\n"
   ]
  },
  {
   "cell_type": "markdown",
   "id": "editorial-walter",
   "metadata": {},
   "source": [
    "## 2. Embedded Code\n",
    "\n",
    "We can embed code meant for illustration instead of execution in Python:\n",
    "\n",
    "``` Python\n",
    "def f(x):\n",
    "    \"\"\"Function f(x) = x^2\"\"\"\n",
    "    return x**2\n",
    "```\n",
    "\n",
    "We can also write code for other languages:\n",
    "\n",
    "``` r\n",
    "f = function(x){\n",
    "    print(x**2)\n",
    "    }\n",
    "```"
   ]
  },
  {
   "cell_type": "markdown",
   "id": "complicated-joint",
   "metadata": {},
   "source": [
    "## 3. LaTex Equations\n",
    "\n",
    "We can include mathematical expression both inline and displayed. Inline expression can be added by surrounding the latex code with a single ```$```. Expressions on their own line are surrounded by double ```$$```.\n",
    "\n",
    "This is the equation I want to show inline with this text: $\\sum{(x_i - \\bar{x})^2}$.\n",
    "\n",
    "This is the equation I want to display by itself.\n",
    "\n",
    "$$\\hat{\\sigma}^2 = \\frac{\\sum{(x_i - \\bar{x})^2}}{n-1}$$\n",
    "\n",
    "Alternatively, you can also surround the expression with HTML tags ```\\begin{equation}``` and  ```\\end{equation}```:\n",
    "\n",
    "``` html\n",
    "\\begin{equation}\n",
    "\\hat{\\sigma}^2 = \\frac{\\sum{(x_i - \\bar{x})^2}}{n-1}\n",
    "\\end{equation}\n",
    "```"
   ]
  },
  {
   "cell_type": "markdown",
   "id": "liquid-cocktail",
   "metadata": {},
   "source": [
    "## 4. Attach Local / Internet Files\n",
    "\n",
    "If we have local files in the Notebook directory, we can refer to these files in Markdown cells directly:\n",
    "\n",
    "``` md\n",
    "![python logo](./images/python.jpg)\n",
    "```\n",
    "\n",
    "Alternatively, we can also use the HTML tag:\n",
    "\n",
    "``` md\n",
    "<img src=\"./images/python.jpg\" />\n",
    "```\n",
    "\n",
    "![python logo](./images/python.jpg)\n",
    "\n",
    "\n",
    "We can also reference external file and attach a file to a markdown cell:\n",
    "\n",
    "```md\n",
    "![python logo](https://upload.wikimedia.org/wikipedia/commons/thumb/c/c3/Python-logo-notext.svg/800px-Python-logo-notext.svg.png)\n",
    "```\n",
    "\n",
    "![python logo](https://upload.wikimedia.org/wikipedia/commons/thumb/c/c3/Python-logo-notext.svg/800px-Python-logo-notext.svg.png)\n"
   ]
  },
  {
   "cell_type": "markdown",
   "id": "sudden-scottish",
   "metadata": {},
   "source": [
    "## Table\n",
    "\n",
    "It's often case that we want to display some high-level data or description in a tabular format, which we can easily create table in a markdown cell like this:\n",
    "\n",
    "``` md\n",
    "| Column 1 | Column 2 | Column 3 |\n",
    "| :--- | ---: | :---: |\n",
    "| Norman | Lo | Economics |\n",
    "| Tokyo | Japan | Location |\n",
    "| MJ | Basketball | Sport |\n",
    "```\n",
    "\n",
    "| Column 1 | Column 2 | Column 3 |\n",
    "| :--- | ---: | :---: |\n",
    "| Norman | Lo | Economics |\n",
    "| Tokyo | Japan | Location |\n",
    "| MJ | Basketball | Sport |"
   ]
  },
  {
   "cell_type": "code",
   "execution_count": null,
   "id": "useful-planning",
   "metadata": {},
   "outputs": [],
   "source": []
  }
 ],
 "metadata": {
  "hide_input": false,
  "kernelspec": {
   "display_name": "Python 3",
   "language": "python",
   "name": "python3"
  },
  "language_info": {
   "codemirror_mode": {
    "name": "ipython",
    "version": 3
   },
   "file_extension": ".py",
   "mimetype": "text/x-python",
   "name": "python",
   "nbconvert_exporter": "python",
   "pygments_lexer": "ipython3",
   "version": "3.7.1"
  },
  "nbTranslate": {
   "displayLangs": [
    "*"
   ],
   "hotkey": "alt-t",
   "langInMainMenu": true,
   "sourceLang": "en",
   "targetLang": "fr",
   "useGoogleTranslate": true
  },
  "varInspector": {
   "cols": {
    "lenName": 16,
    "lenType": 16,
    "lenVar": 40
   },
   "kernels_config": {
    "python": {
     "delete_cmd_postfix": "",
     "delete_cmd_prefix": "del ",
     "library": "var_list.py",
     "varRefreshCmd": "print(var_dic_list())"
    },
    "r": {
     "delete_cmd_postfix": ") ",
     "delete_cmd_prefix": "rm(",
     "library": "var_list.r",
     "varRefreshCmd": "cat(var_dic_list()) "
    }
   },
   "types_to_exclude": [
    "module",
    "function",
    "builtin_function_or_method",
    "instance",
    "_Feature"
   ],
   "window_display": false
  }
 },
 "nbformat": 4,
 "nbformat_minor": 5
}
